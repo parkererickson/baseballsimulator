{
 "nbformat": 4,
 "nbformat_minor": 2,
 "metadata": {
  "language_info": {
   "name": "python",
   "codemirror_mode": {
    "name": "ipython",
    "version": 3
   },
   "version": "3.6.9-final"
  },
  "orig_nbformat": 2,
  "file_extension": ".py",
  "mimetype": "text/x-python",
  "name": "python",
  "npconvert_exporter": "python",
  "pygments_lexer": "ipython3",
  "version": 3,
  "kernelspec": {
   "name": "python36964bit5e4270a542e54d6788076e0986af2669",
   "display_name": "Python 3.6.9 64-bit"
  }
 },
 "cells": [
  {
   "cell_type": "code",
   "execution_count": 1,
   "metadata": {},
   "outputs": [],
   "source": [
    "from baseball import baseballSim\n",
    "\n",
    "sim = baseballSim(\"Batters.csv\", \"Pitchers.csv\", \"League.csv\")"
   ]
  },
  {
   "cell_type": "code",
   "execution_count": 2,
   "metadata": {},
   "outputs": [
    {
     "ename": "SystemExit",
     "evalue": "pitcher, Cameron Maybin,  does not exist in the FanGraphs database. Please check the spelling of the player's name.",
     "output_type": "error",
     "traceback": [
      "An exception has occurred, use %tb to see the full traceback.\n",
      "\u001b[0;31mSystemExit\u001b[0m\u001b[0;31m:\u001b[0m pitcher, Cameron Maybin,  does not exist in the FanGraphs database. Please check the spelling of the player's name.\n"
     ]
    }
   ],
   "source": [
    "twins = sim.createLineup([\"Twins\", \"Max Kepler\", \"Jorge Polanco\", \"Nelson Cruz\", \"Eddie Rosario\", \"C.J. Cron\", \"Miguel Sano\", \"Mitch Garver\", \"Luis Arraez\", \"Byron Buxton\", \"Jose Berrios\"])\n",
    "\n",
    "yankees = sim.createLineup([\"Yankees\", \"Brett Gardner\", \"Luke Voit\", \"Gary Sanchez\", \"Miguel Andujar\", \"Gleyber Torres\", \"Brett Gardner\", \"Aaron Judge\", \"Brett Gardner\", \"Austin Romine\", \"Cameron Maybin\", \"J.A. Happ\"])"
   ]
  },
  {
   "cell_type": "code",
   "execution_count": null,
   "metadata": {},
   "outputs": [],
   "source": [
    "sim.simulate(twins, yankees, 162)"
   ]
  }
 ]
}